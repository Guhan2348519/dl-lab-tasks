{
  "nbformat": 4,
  "nbformat_minor": 0,
  "metadata": {
    "colab": {
      "provenance": [],
      "authorship_tag": "ABX9TyN5Bljd948x3MzcetTbAj4b",
      "include_colab_link": true
    },
    "kernelspec": {
      "name": "python3",
      "display_name": "Python 3"
    },
    "language_info": {
      "name": "python"
    }
  },
  "cells": [
    {
      "cell_type": "markdown",
      "metadata": {
        "id": "view-in-github",
        "colab_type": "text"
      },
      "source": [
        "<a href=\"https://colab.research.google.com/github/Guhan2348519/dl-lab-tasks/blob/main/2348519_DL_Lab1a.ipynb\" target=\"_parent\"><img src=\"https://colab.research.google.com/assets/colab-badge.svg\" alt=\"Open In Colab\"/></a>"
      ]
    },
    {
      "cell_type": "markdown",
      "source": [
        "steps to follow :\n",
        "Initialize weights (W) and bias (b) with random values.\n",
        "Give the input (A, B) and calculate the weighted sum.\n",
        "Apply the actuation function to the weighted inputs.\n",
        "Compare the yield with the specified output and calculate the error.\n",
        "Alter the weights and bias using the Perceptron learning run the show"
      ],
      "metadata": {
        "id": "E4e_4noXGeq_"
      }
    },
    {
      "cell_type": "code",
      "source": [
        "import numpy as np\n",
        "def unit_step(v):\n",
        "    \"\"\" Heavyside Step function. v must be a scalar \"\"\"\n",
        "    if v >= 0:\n",
        "        return 1\n",
        "    else:\n",
        "        return 0\n",
        "def perceptron(x, w, b):\n",
        "    \"\"\" Function implemented by a perceptron with\n",
        "        weight vector w and bias b \"\"\"\n",
        "    v = np.dot(w, x) + b\n",
        "    y = unit_step(v)\n",
        "    return y"
      ],
      "metadata": {
        "id": "HbGn30J2MR4T"
      },
      "execution_count": null,
      "outputs": []
    },
    {
      "cell_type": "code",
      "source": [
        "\n",
        "def AND_percep(x):\n",
        "    w = np.array([1, 1])\n",
        "    b = -1.5\n",
        "    return perceptron(x, w, b)\n",
        "\n",
        "# Testing AND gate\n",
        "example1 = np.array([1, 1])\n",
        "example2 = np.array([1, 0])\n",
        "example3 = np.array([0, 1])\n",
        "example4 = np.array([0, 0])\n",
        "\n",
        "print(\"AND({}, {}) = {}\".format(1, 1, AND_percep(example1)))\n",
        "print(\"AND({}, {}) = {}\".format(1, 0, AND_percep(example2)))\n",
        "print(\"AND({}, {}) = {}\".format(0, 1, AND_percep(example3)))\n",
        "print(\"AND({}, {}) = {}\".format(0, 0, AND_percep(example4)))"
      ],
      "metadata": {
        "id": "K6tDysSBQX5g",
        "outputId": "9aa8f3de-cf2a-4925-fc3e-7bd7eca1146c",
        "colab": {
          "base_uri": "https://localhost:8080/"
        }
      },
      "execution_count": null,
      "outputs": [
        {
          "output_type": "stream",
          "name": "stdout",
          "text": [
            "AND(1, 1) = 1\n",
            "AND(1, 0) = 0\n",
            "AND(0, 1) = 0\n",
            "AND(0, 0) = 0\n"
          ]
        }
      ]
    },
    {
      "cell_type": "code",
      "source": [
        "\n",
        "def OR_percep(x):\n",
        "    w = np.array([1, 1])\n",
        "    b = -0.5\n",
        "    return perceptron(x, w, b)\n",
        "\n",
        "# Testing OR gate\n",
        "example1 = np.array([1, 1])\n",
        "example2 = np.array([1, 0])\n",
        "example3 = np.array([0, 1])\n",
        "example4 = np.array([0, 0])\n",
        "\n",
        "print(\"OR({}, {}) = {}\".format(1, 1, OR_percep(example1)))\n",
        "print(\"OR({}, {}) = {}\".format(1, 0, OR_percep(example2)))\n",
        "print(\"OR({}, {}) = {}\".format(0, 1, OR_percep(example3)))\n",
        "print(\"OR({}, {}) = {}\".format(0, 0, OR_percep(example4)))"
      ],
      "metadata": {
        "colab": {
          "base_uri": "https://localhost:8080/"
        },
        "id": "6b8_mU9FNJMh",
        "outputId": "72fc8cee-72c0-461b-d4b5-f960baaf7509"
      },
      "execution_count": null,
      "outputs": [
        {
          "output_type": "stream",
          "name": "stdout",
          "text": [
            "OR(1, 1) = 1\n",
            "OR(1, 0) = 1\n",
            "OR(0, 1) = 1\n",
            "OR(0, 0) = 0\n"
          ]
        }
      ]
    },
    {
      "cell_type": "markdown",
      "source": [
        " if there exists a perceptron which can implement the NOT(x) function.\n",
        "Given two parameters, w and b, it will perform the following computation:\n",
        "ŷ = ϴ(wx + b) those values exist since we can easily find them: let’s pick w = -1 and b = 0.5."
      ],
      "metadata": {
        "id": "JY2ohIW0QB-D"
      }
    },
    {
      "cell_type": "code",
      "source": [
        "def NOT_percep(x):\n",
        "    return perceptron(x, w=-1, b=0.5)\n",
        "\n",
        "print(\"NOT(0) = {}\".format(NOT_percep(0)))\n",
        "print(\"NOT(1) = {}\".format(NOT_percep(1)))"
      ],
      "metadata": {
        "colab": {
          "base_uri": "https://localhost:8080/"
        },
        "id": "zB_MyESTNbjV",
        "outputId": "9acf5560-fa7e-4e81-c86f-42100f700cec"
      },
      "execution_count": null,
      "outputs": [
        {
          "output_type": "stream",
          "name": "stdout",
          "text": [
            "NOT(0) = 1\n",
            "NOT(1) = 0\n"
          ]
        }
      ]
    },
    {
      "cell_type": "code",
      "source": [],
      "metadata": {
        "id": "nshvN0r62YET"
      },
      "execution_count": null,
      "outputs": []
    },
    {
      "cell_type": "code",
      "source": [
        "\n",
        "w1, w2, b = 0.5, 0.5, -1\n",
        "\n",
        "def activate(x):\n",
        "    return 1 if x >= 0 else 0\n",
        "\n",
        "def train_perceptron(inputs, desired_outputs, learning_rate, epochs):\n",
        "    global w1, w2, b\n",
        "    for epoch in range(epochs):\n",
        "        total_error = 0\n",
        "        for i in range(len(inputs)):\n",
        "            A, B = inputs[i]\n",
        "            target_output = desired_outputs[i]\n",
        "            output = activate(w1 * A + w2 * B + b)\n",
        "            error = target_output - output\n",
        "            w1 += learning_rate * error * A\n",
        "            w2 += learning_rate * error * B\n",
        "            b += learning_rate * error\n",
        "            total_error += abs(error)\n",
        "        if total_error == 0:\n",
        "            break\n",
        "\n",
        "\n",
        "inputs = [(0, 0), (0, 1), (1, 0), (1, 1)]\n",
        "desired_outputs = [0, 0, 0, 1]  # Modified for AND gate\n",
        "learning_rate = 0.1\n",
        "epochs = 100\n",
        "\n",
        "train_perceptron(inputs, desired_outputs, learning_rate, epochs)\n",
        "\n",
        "for i in range(len(inputs)):\n",
        "    A, B = inputs[i]\n",
        "    output = activate(w1 * A + w2 * B + b)\n",
        "    print(f\"Input: ({A}, {B})  Output: {output}\")"
      ],
      "metadata": {
        "colab": {
          "base_uri": "https://localhost:8080/"
        },
        "id": "MkhWrKx9NNqD",
        "outputId": "d4a8918b-35a0-4b94-9936-8da72727ac66"
      },
      "execution_count": null,
      "outputs": [
        {
          "output_type": "stream",
          "name": "stdout",
          "text": [
            "Input: (0, 0)  Output: 0\n",
            "Input: (0, 1)  Output: 0\n",
            "Input: (1, 0)  Output: 0\n",
            "Input: (1, 1)  Output: 1\n"
          ]
        }
      ]
    },
    {
      "cell_type": "code",
      "source": [
        "w1, w2, b = 0.5, 0.5, -1\n",
        "\n",
        "def activate(x):\n",
        "    return 1 if x >= 0 else 0\n",
        "\n",
        "def train_perceptron(inputs, desired_outputs, learning_rate, epochs):\n",
        "    global w1, w2, b\n",
        "    for epoch in range(epochs):\n",
        "        total_error = 0\n",
        "        for i in range(len(inputs)):\n",
        "            A, B = inputs[i]\n",
        "            target_output = desired_outputs[i]\n",
        "            output = activate(w1 * A + w2 * B + b)\n",
        "            error = target_output - output\n",
        "            w1 += learning_rate * error * A\n",
        "            w2 += learning_rate * error * B\n",
        "            b += learning_rate * error\n",
        "            total_error += abs(error)\n",
        "        if total_error == 0:\n",
        "            break\n",
        "\n",
        "\n",
        "inputs = [(0, 0), (0, 1), (1, 0), (1, 1)]\n",
        "desired_outputs = [0, 1, 1, 1] # changed for OR function\n",
        "learning_rate = 0.1\n",
        "epochs = 100\n",
        "\n",
        "train_perceptron(inputs, desired_outputs, learning_rate, epochs)\n",
        "\n",
        "for i in range(len(inputs)):\n",
        "    A, B = inputs[i]\n",
        "    output = activate(w1 * A + w2 * B + b)\n",
        "    print(f\"Input: ({A}, {B})  Output: {output}\")"
      ],
      "metadata": {
        "colab": {
          "base_uri": "https://localhost:8080/"
        },
        "id": "8Tu-4kyxPYnh",
        "outputId": "304f1122-82d5-4de5-f8fd-acf160667b3d"
      },
      "execution_count": null,
      "outputs": [
        {
          "output_type": "stream",
          "name": "stdout",
          "text": [
            "Input: (0, 0)  Output: 0\n",
            "Input: (0, 1)  Output: 1\n",
            "Input: (1, 0)  Output: 1\n",
            "Input: (1, 1)  Output: 1\n"
          ]
        }
      ]
    },
    {
      "cell_type": "code",
      "source": [
        "\n",
        "def activation(out, threshold):\n",
        "    if out >= threshold:\n",
        "        return 1\n",
        "    else:\n",
        "        return 0\n",
        "\n",
        "def perceptron():\n",
        "    b = [0, 1, 0, 1]\n",
        "    y = [0, 0, 0, 1]  # Actual Output\n",
        "    w = [0.1, 0.8]  # Manually assigned weights\n",
        "    threshold = 1\n",
        "    learning_rate = 0.5\n",
        "    a = [1, 0, 1, 1]\n",
        "    errors = 0\n",
        "\n",
        "    print(\"Initial Weights: \" + str(w))\n",
        "\n",
        "    for i in range(4):\n",
        "        summation = a[i] * w[0] + b[i] * w[1]\n",
        "        o = activation(summation, threshold)\n",
        "        errors += abs(o - y[i])\n",
        "\n",
        "    print(\"Number of Errors: \" + str(errors))\n",
        "\n",
        "    # Perceptron Learning Algorithm\n",
        "    while errors != 0:\n",
        "        errors = 0\n",
        "        for i in range(4):\n",
        "            summation = a[i] * w[0] + b[i] * w[1]\n",
        "            o = activation(summation, threshold)\n",
        "            if o != y[i]:\n",
        "                errors += 1\n",
        "                w[0] = w[0] + learning_rate * (y[i] - o) * a[i]\n",
        "                w[1] = w[1] + learning_rate * (y[i] - o) * b[i]\n",
        "\n",
        "    print(\"Final Weights: \" + str(w))\n",
        "    return w\n",
        "\n",
        "# Test the perceptron for AND gate\n",
        "weights = perceptron()"
      ],
      "metadata": {
        "colab": {
          "base_uri": "https://localhost:8080/"
        },
        "id": "Y9Dv8c8jFv-8",
        "outputId": "3692b958-ae24-42c1-93b6-41cfc0d71932"
      },
      "execution_count": null,
      "outputs": [
        {
          "output_type": "stream",
          "name": "stdout",
          "text": [
            "Initial Weights: [0.1, 0.8]\n",
            "Number of Errors: 1\n",
            "Final Weights: [0.6, 0.8]\n"
          ]
        }
      ]
    },
    {
      "cell_type": "code",
      "source": [
        "\n",
        "import matplotlib.pyplot as plt\n",
        "\n",
        "def activation(out, threshold):\n",
        "    if out >= threshold:\n",
        "        return 1\n",
        "    else:\n",
        "        return 0\n",
        "\n",
        "def perceptron():\n",
        "    b = [0, 1, 0, 1]\n",
        "    y = [0, 0, 0, 1]  # Actual Output\n",
        "    w = [0.1, 0.8]  # Manually assigned weights\n",
        "    threshold = 1\n",
        "    learning_rate = 0.5\n",
        "    a = [1, 0, 1, 1]\n",
        "    errors = 0\n",
        "\n",
        "    print(\"Initial Weights: \" + str(w))\n",
        "\n",
        "    misclassifications = []\n",
        "\n",
        "    for i in range(4):\n",
        "        summation = a[i] * w[0] + b[i] * w[1]\n",
        "        o = activation(summation, threshold)\n",
        "        print(\"Input: \" + str(a[i]) + \",\" + str(b[i]))\n",
        "        print(\"Weights: \" + str(w[0]) + \", \" + str(w[1]))\n",
        "        print(\"Summation: \" + str(summation) + \", Threshold: \" + str(threshold))\n",
        "        print(\"Actual Output: \" + str(y[i]) + \", Predicted Output: \" + str(o))\n",
        "        if o != y[i]:\n",
        "            errors += 1\n",
        "            misclassifications.append((a[i], b[i]))\n",
        "\n",
        "    print(\"Number of Errors: \" + str(errors))\n",
        "\n",
        "    # Perceptron Learning Algorithm\n",
        "    while errors != 0:\n",
        "        errors = 0\n",
        "        for i in range(4):\n",
        "            summation = a[i] * w[0] + b[i] * w[1]\n",
        "            o = activation(summation, threshold)\n",
        "            if o != y[i]:\n",
        "                errors += 1\n",
        "                w[0] = w[0] + learning_rate * (y[i] - o) * a[i]\n",
        "                w[1] = w[1] + learning_rate * (y[i] - o) * b[i]\n",
        "                print(\"\\nMisclassification occurred for input:\", (a[i], b[i]))\n",
        "                print(\"Updated Weights: \" + str(w[0]) + \", \" + str(w[1]))\n",
        "\n",
        "    print(\"\\nFinal Weights: \" + str(w))\n",
        "\n",
        "    # Plot misclassifications\n",
        "    if misclassifications:\n",
        "        x, y = zip(*misclassifications)\n",
        "        plt.scatter(x, y, color='red', label='Misclassifications')\n",
        "        plt.xlabel('Input 1')\n",
        "        plt.ylabel('Input 2')\n",
        "        plt.title('Misclassifications')\n",
        "        plt.legend()\n",
        "        plt.show()\n",
        "\n",
        "    return w\n",
        "\n",
        "# Test the perceptron for AND gate\n",
        "weights = perceptron()"
      ],
      "metadata": {
        "colab": {
          "base_uri": "https://localhost:8080/",
          "height": 943
        },
        "id": "HTW79mB6HX5u",
        "outputId": "ec3a9b74-a7f8-4390-fa91-7ddb6bf0b2da"
      },
      "execution_count": null,
      "outputs": [
        {
          "output_type": "stream",
          "name": "stdout",
          "text": [
            "Initial Weights: [0.1, 0.8]\n",
            "Input: 1,0\n",
            "Weights: 0.1, 0.8\n",
            "Summation: 0.1, Threshold: 1\n",
            "Actual Output: 0, Predicted Output: 0\n",
            "Input: 0,1\n",
            "Weights: 0.1, 0.8\n",
            "Summation: 0.8, Threshold: 1\n",
            "Actual Output: 0, Predicted Output: 0\n",
            "Input: 1,0\n",
            "Weights: 0.1, 0.8\n",
            "Summation: 0.1, Threshold: 1\n",
            "Actual Output: 0, Predicted Output: 0\n",
            "Input: 1,1\n",
            "Weights: 0.1, 0.8\n",
            "Summation: 0.9, Threshold: 1\n",
            "Actual Output: 1, Predicted Output: 0\n",
            "Number of Errors: 1\n",
            "\n",
            "Misclassification occurred for input: (1, 1)\n",
            "Updated Weights: 0.6, 1.3\n",
            "\n",
            "Misclassification occurred for input: (0, 1)\n",
            "Updated Weights: 0.6, 0.8\n",
            "\n",
            "Final Weights: [0.6, 0.8]\n"
          ]
        },
        {
          "output_type": "display_data",
          "data": {
            "text/plain": [
              "<Figure size 640x480 with 1 Axes>"
            ],
            "image/png": "[encoded data removed]"
          },
          "metadata": {}
        }
      ]
    },
    {
      "cell_type": "code",
      "source": [
        "\n",
        "import matplotlib.pyplot as plt\n",
        "\n",
        "def activation(out, threshold):\n",
        "    if out > threshold:\n",
        "        return 1\n",
        "    else:\n",
        "        return 0\n",
        "\n",
        "def perceptron(or_input):\n",
        "    a = [0, 0, 1, 1]\n",
        "    b = [0, 1, 0, 1]\n",
        "    y = [0, 1, 1, 1]  # Desired Output for OR gate\n",
        "    w = [0.2, 0.3]\n",
        "    threshold = 0.1\n",
        "    learning_rate = 0.1\n",
        "\n",
        "    misclassifications = []\n",
        "    iterations = 0\n",
        "\n",
        "    print(\"Initial Weights: \" + str(w))\n",
        "\n",
        "    while True:\n",
        "        misclassification_count = 0\n",
        "\n",
        "        for i in range(4):\n",
        "            summation = a[i]*w[0] + b[i]*w[1]\n",
        "            o = activation(summation, threshold)\n",
        "\n",
        "            print(\"Input: \" + str(a[i]) + \", \" + str(b[i]))\n",
        "            print(\"Weights: \" + str(w[0]) + \", \" + str(w[1]))\n",
        "            print(\"Summation: \" + str(summation) + \", Threshold: \" + str(threshold))\n",
        "            print(\"Actual Output: \" + str(y[i]) + \", Predicted Output: \" + str(o))\n",
        "\n",
        "            if o != y[i]:\n",
        "                misclassification_count += 1\n",
        "                w[0] = w[0] + learning_rate * (y[i] - o) * a[i]\n",
        "                w[1] = w[1] + learning_rate * (y[i] - o) * b[i]\n",
        "\n",
        "        misclassifications.append(misclassification_count)\n",
        "        iterations += 1\n",
        "\n",
        "        if misclassification_count == 0:\n",
        "            break\n",
        "\n",
        "    print(\"Number of Errors:\", misclassification_count)\n",
        "    print(\"\\nFinal Weights:\", w)\n",
        "\n",
        "    # Plot misclassifications vs iterations\n",
        "    plt.plot(range(1, iterations + 1), misclassifications, marker='o')\n",
        "    plt.xlabel('Iterations')\n",
        "    plt.ylabel('Misclassifications')\n",
        "    plt.title('Misclassifications vs Iterations')\n",
        "    plt.grid(True)\n",
        "    plt.show()\n",
        "\n",
        "    return w\n",
        "\n",
        "or_input = [0, 1]\n",
        "weights = perceptron(or_input)"
      ],
      "metadata": {
        "colab": {
          "base_uri": "https://localhost:8080/",
          "height": 620
        },
        "id": "UGNW8H2zEYpa",
        "outputId": "12bd5956-bdbd-488b-8f0f-4dadff2416a7"
      },
      "execution_count": null,
      "outputs": [
        {
          "output_type": "stream",
          "name": "stdout",
          "text": [
            "Initial Weights: [0.2, 0.3]\n",
            "Input: 0, 0\n",
            "Weights: 0.2, 0.3\n",
            "Summation: 0.0, Threshold: 0.1\n",
            "Actual Output: 0, Predicted Output: 0\n",
            "Input: 0, 1\n",
            "Weights: 0.2, 0.3\n",
            "Summation: 0.3, Threshold: 0.1\n",
            "Actual Output: 1, Predicted Output: 1\n",
            "Input: 1, 0\n",
            "Weights: 0.2, 0.3\n",
            "Summation: 0.2, Threshold: 0.1\n",
            "Actual Output: 1, Predicted Output: 1\n",
            "Input: 1, 1\n",
            "Weights: 0.2, 0.3\n",
            "Summation: 0.5, Threshold: 0.1\n",
            "Actual Output: 1, Predicted Output: 1\n",
            "Number of Errors: 0\n",
            "\n",
            "Final Weights: [0.2, 0.3]\n"
          ]
        },
        {
          "output_type": "display_data",
          "data": {
            "text/plain": [
              "<Figure size 640x480 with 1 Axes>"
            ],
            "image/png": "[encoded data removed]"
          },
          "metadata": {}
        }
      ]
    },
    {
      "cell_type": "code",
      "source": [
        "\n",
        "import matplotlib.pyplot as plt\n",
        "\n",
        "def activation(sum, threshold):\n",
        "    if sum == threshold:\n",
        "        return 1\n",
        "    else:\n",
        "        return 0\n",
        "\n",
        "def perceptron(not_input):\n",
        "    a = [0, 1]\n",
        "    y = [1, 0]  # Actual Output\n",
        "    w = 0\n",
        "    threshold = 0\n",
        "    learning_rate = 0.5\n",
        "    iterations = 0\n",
        "    misclassifications = []\n",
        "\n",
        "    initial_weights = w\n",
        "\n",
        "    print(\"Initial Weights:\", initial_weights)\n",
        "\n",
        "    while True:\n",
        "        misclassification_count = 0\n",
        "\n",
        "        for i in range(len(a)):\n",
        "            summation = a[i] * w\n",
        "            o = activation(summation, threshold)\n",
        "\n",
        "            if o != y[i]:\n",
        "                misclassification_count += 1\n",
        "                w = w + learning_rate * (y[i] - o) * a[i]\n",
        "\n",
        "        misclassifications.append(misclassification_count)\n",
        "        iterations += 1\n",
        "\n",
        "        if misclassification_count == 0:\n",
        "            break\n",
        "\n",
        "    print(\"Input:\", not_input)\n",
        "    print(\"Weights:\", initial_weights)\n",
        "    print(\"Summation:\", summation, \", Threshold:\", threshold)\n",
        "    print(\"Actual Output:\", y[-1], \", Predicted Output:\", o)\n",
        "\n",
        "    print(\"Final Weights:\", w)\n",
        "\n",
        "    # Plot misclassifications vs iterations\n",
        "    plt.plot(range(1, iterations + 1), misclassifications, marker='o')\n",
        "    plt.xlabel('Iterations')\n",
        "    plt.ylabel('Misclassifications')\n",
        "    plt.title('Misclassifications vs Iterations')\n",
        "    plt.grid(True)\n",
        "    plt.show()\n",
        "\n",
        "    # Prediction Part\n",
        "    summation = not_input * w\n",
        "    return activation(summation, threshold)\n",
        "\n",
        "# Test the perceptron for NOT gate\n",
        "input_value = 1\n",
        "output = perceptron(input_value)\n",
        "print(\"Output for NOT gate with input\", input_value, \":\", output)"
      ],
      "metadata": {
        "colab": {
          "base_uri": "https://localhost:8080/",
          "height": 403
        },
        "id": "Jka8bVc-HfX7",
        "outputId": "3b5a99d9-44de-4f80-fb46-be8e3bc933f1"
      },
      "execution_count": null,
      "outputs": [
        {
          "output_type": "stream",
          "name": "stdout",
          "text": [
            "Initial Weights: 0\n",
            "Input: 1\n",
            "Weights: 0\n",
            "Summation: -0.5 , Threshold: 0\n",
            "Actual Output: 0 , Predicted Output: 0\n",
            "Final Weights: -0.5\n"
          ]
        },
        {
          "output_type": "display_data",
          "data": {
            "text/plain": [
              "<Figure size 640x480 with 1 Axes>"
            ],
            "image/png": "[encoded data removed]"
          },
          "metadata": {}
        },
        {
          "output_type": "stream",
          "name": "stdout",
          "text": [
            "Output for NOT gate with input 1 : 0\n"
          ]
        }
      ]
    },
    {
      "cell_type": "code",
      "source": [
        "\n",
        "import numpy as np\n",
        "\n",
        "def activation(x):\n",
        "    return 1 if x >= 0 else 0\n",
        "\n",
        "def perceptron_nand(inputs, weights):\n",
        "    return activation(np.dot(inputs, weights))\n",
        "\n",
        "def train_perceptron_nand(inputs, outputs, learning_rate=0.1, epochs=1000):\n",
        "    weights = np.random.rand(len(inputs[0]))\n",
        "    errors = []\n",
        "\n",
        "    for epoch in range(epochs):\n",
        "        total_errors = 0\n",
        "\n",
        "        for i in range(len(inputs)):\n",
        "            prediction = perceptron_nand(inputs[i], weights)\n",
        "            error = outputs[i] - prediction\n",
        "            total_errors += np.abs(error)\n",
        "\n",
        "            weights += learning_rate * error * inputs[i]\n",
        "\n",
        "        errors.append(total_errors)\n",
        "\n",
        "        if total_errors == 0:\n",
        "            print(\"Converged at epoch\", epoch + 1)\n",
        "            break\n",
        "\n",
        "    return weights, errors\n",
        "\n",
        "# Input data for NAND gate\n",
        "inputs = np.array([[0, 0], [0, 1], [1, 0], [1, 1]])\n",
        "outputs = np.array([1, 1, 1, 0])  # Desired NAND gate outputs\n",
        "\n",
        "# Manually assign initial weights\n",
        "initial_weights = np.array([0.5, 0.5])\n",
        "\n",
        "# Train perceptron for NAND gate\n",
        "trained_weights, error_history = train_perceptron_nand(inputs, outputs)\n",
        "\n",
        "# Displaying the number of errors between positive and negative outcomes\n",
        "print(\"Initial Weights:\", initial_weights)\n",
        "print(\"Trained Weights:\", trained_weights)\n",
        "\n",
        "# Plotting the error history\n",
        "import matplotlib.pyplot as plt\n",
        "plt.plot(range(1, len(error_history) + 1), error_history)\n",
        "plt.xlabel('Epochs')\n",
        "plt.ylabel('Total Errors')\n",
        "plt.title('Perceptron Training: NAND Gate')\n",
        "plt.grid(True)\n",
        "plt.show()"
      ],
      "metadata": {
        "colab": {
          "base_uri": "https://localhost:8080/",
          "height": 312
        },
        "id": "YTbVh6lnSXzO",
        "outputId": "de65d09f-947e-46dd-bd08-e515dfb415df"
      },
      "execution_count": 27,
      "outputs": [
        {
          "output_type": "stream",
          "name": "stdout",
          "text": [
            "Initial Weights: [0.5 0.5]\n",
            "Trained Weights: [-0.01672132 -0.0900311 ]\n"
          ]
        },
        {
          "output_type": "display_data",
          "data": {
            "text/plain": [
              "<Figure size 640x480 with 1 Axes>"
            ],
            "image/png": "[encoded data removed]"
          },
          "metadata": {}
        }
      ]
    },
    {
      "cell_type": "code",
      "source": [
        "\n",
        "import matplotlib.pyplot as plt\n",
        "\n",
        "def activation(x):\n",
        "    return 1 / (1 + np.exp(-x))\n",
        "\n",
        "def derivative_activation(x):\n",
        "    return x * (1 - x)\n",
        "\n",
        "def perceptron_xor(inputs, outputs, learning_rate=0.1, epochs=1000):\n",
        "    # Initialize random weights for input layer -> hidden layer\n",
        "    input_hidden_weights = np.random.rand(inputs.shape[1], 2)\n",
        "\n",
        "    # Initialize random weights for hidden layer -> output layer\n",
        "    hidden_output_weights = np.random.rand(2)\n",
        "\n",
        "    errors = []\n",
        "\n",
        "    for epoch in range(epochs):\n",
        "        total_error = 0\n",
        "\n",
        "        for i in range(inputs.shape[0]):\n",
        "            # Forward pass\n",
        "            input_layer = inputs[i]\n",
        "            hidden_layer_input = np.dot(input_layer, input_hidden_weights)\n",
        "            hidden_layer_output = activation(hidden_layer_input)\n",
        "            output_layer_input = np.dot(hidden_layer_output, hidden_output_weights)\n",
        "            predicted_output = activation(output_layer_input)\n",
        "\n",
        "            # Calculate error\n",
        "            error = outputs[i] - predicted_output\n",
        "            total_error += abs(error)\n",
        "\n",
        "            # Backpropagation\n",
        "            output_delta = error * derivative_activation(predicted_output)\n",
        "            hidden_error = np.dot(hidden_output_weights, output_delta)\n",
        "            hidden_delta = hidden_error * derivative_activation(hidden_layer_output)\n",
        "\n",
        "            # Update weights\n",
        "            hidden_output_weights += learning_rate * hidden_layer_output * output_delta\n",
        "            input_hidden_weights += learning_rate * np.outer(input_layer, hidden_delta)\n",
        "\n",
        "        errors.append(total_error)\n",
        "\n",
        "        if total_error == 0:\n",
        "            print(\"Converged at epoch\", epoch + 1)\n",
        "            break\n",
        "\n",
        "    return input_hidden_weights, hidden_output_weights, errors\n",
        "\n",
        "# Input data for XOR gate\n",
        "inputs = np.array([[0, 0], [0, 1], [1, 0], [1, 1]])\n",
        "outputs = np.array([0, 1, 1, 0])  # Desired XOR gate outputs\n",
        "\n",
        "# Train perceptron for XOR gate\n",
        "input_hidden_weights, hidden_output_weights, error_history = perceptron_xor(inputs, outputs)\n",
        "\n",
        "# Plotting the error history\n",
        "plt.plot(range(1, len(error_history) + 1), error_history)\n",
        "plt.xlabel('Epochs')\n",
        "plt.ylabel('Total Errors')\n",
        "plt.title('Perceptron Training: XOR Gate')\n",
        "plt.grid(True)\n",
        "plt.show()\n",
        "\n",
        "# Displaying the final weights\n",
        "print(\"Input to Hidden Weights:\")\n",
        "print(input_hidden_weights)\n",
        "print(\"\\nHidden to Output Weights:\")\n",
        "print(hidden_output_weights)"
      ],
      "metadata": {
        "id": "9bbl3PP4QVWN",
        "colab": {
          "base_uri": "https://localhost:8080/",
          "height": 358
        },
        "outputId": "8f44df54-fadf-4e8e-973e-dd9410783c0c"
      },
      "execution_count": 26,
      "outputs": [
        {
          "output_type": "display_data",
          "data": {
            "text/plain": [
              "<Figure size 640x480 with 1 Axes>"
            ],
            "image/png": "[encoded data removed]"
          },
          "metadata": {}
        },
        {
          "output_type": "stream",
          "name": "stdout",
          "text": [
            "Input to Hidden Weights:\n",
            "[[0.78209581 0.44501619]\n",
            " [0.09476374 0.45509941]]\n",
            "\n",
            "Hidden to Output Weights:\n",
            "[-0.1762903   0.18198868]\n"
          ]
        }
      ]
    }
  ]
}