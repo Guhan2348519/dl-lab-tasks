{
  "nbformat": 4,
  "nbformat_minor": 0,
  "metadata": {
    "colab": {
      "provenance": [],
      "authorship_tag": "ABX9TyPm00N8IA6PJvY66dvQ2H8S",
      "include_colab_link": true
    },
    "kernelspec": {
      "name": "python3",
      "display_name": "Python 3"
    },
    "language_info": {
      "name": "python"
    }
  },
  "cells": [
    {
      "cell_type": "markdown",
      "metadata": {
        "id": "view-in-github",
        "colab_type": "text"
      },
      "source": [
        "<a href=\"https://colab.research.google.com/github/Guhan2348519/dl-lab-tasks/blob/main/2348519_DL_lab4.ipynb\" target=\"_parent\"><img src=\"https://colab.research.google.com/assets/colab-badge.svg\" alt=\"Open In Colab\"/></a>"
      ]
    },
    {
      "cell_type": "code",
      "execution_count": null,
      "metadata": {
        "id": "cYUbbKxXaqie"
      },
      "outputs": [],
      "source": [
        "import numpy as np\n",
        "import pandas as pd\n",
        "from matplotlib import pyplot as plt\n",
        "from sklearn.model_selection import train_test_split\n",
        "import keras\n",
        "from keras.models import Sequential\n",
        "from keras.layers import InputLayer\n",
        "from keras.layers import Dense\n",
        "from keras.layers import Dropout"
      ]
    },
    {
      "cell_type": "code",
      "source": [
        "data = pd.read_csv('/content/drive/MyDrive/data/WA_Fn-UseC_-Telco-Customer-Churn.csv')"
      ],
      "metadata": {
        "id": "Ps01YLGza2Qh"
      },
      "execution_count": 4,
      "outputs": []
    },
    {
      "cell_type": "code",
      "source": [
        "\n",
        "data.SeniorCitizen.replace([0, 1], [\"No\", \"Yes\"], inplace=True)\n",
        "data.TotalCharges.replace([\" \"], [\"0\"], inplace=True)\n",
        "data.TotalCharges = data.TotalCharges.astype(float)\n",
        "data.drop(\"customerID\", axis=1, inplace=True)\n",
        "data.Churn.replace([\"Yes\", \"No\"], [1, 0], inplace=True)"
      ],
      "metadata": {
        "id": "ejorCadia-wf"
      },
      "execution_count": 7,
      "outputs": []
    },
    {
      "cell_type": "code",
      "source": [
        "data = pd.get_dummies(data)"
      ],
      "metadata": {
        "id": "dR5UsG7fel_I"
      },
      "execution_count": 8,
      "outputs": []
    },
    {
      "cell_type": "code",
      "source": [
        "X = data.drop(\"Churn\", axis= 1)\n",
        "y = data.Churn"
      ],
      "metadata": {
        "id": "c_8x9UxfeuAs"
      },
      "execution_count": 11,
      "outputs": []
    },
    {
      "cell_type": "code",
      "source": [
        "X_train, X_test, y_train, y_test = train_test_split(X, y, test_size= 0.2, random_state= 1234)"
      ],
      "metadata": {
        "id": "XELRkSgUex3V"
      },
      "execution_count": 12,
      "outputs": []
    },
    {
      "cell_type": "code",
      "source": [
        "model = Sequential()"
      ],
      "metadata": {
        "id": "GYaMV3Zre6WV"
      },
      "execution_count": 13,
      "outputs": []
    },
    {
      "cell_type": "code",
      "source": [
        "\n",
        "from keras.layers import Dense\n",
        "from keras.constraints import max_norm\n",
        "\n",
        "model.add(Dense(16, input_dim=46, activation='relu', kernel_constraint=max_norm(3)))"
      ],
      "metadata": {
        "id": "i2yGK6qte_j2"
      },
      "execution_count": 17,
      "outputs": []
    },
    {
      "cell_type": "code",
      "source": [
        "model.add(Dropout(rate=0.2))"
      ],
      "metadata": {
        "id": "hn_5Z8qqfc61"
      },
      "execution_count": 18,
      "outputs": []
    },
    {
      "cell_type": "code",
      "source": [
        "\n",
        "from keras.layers import Dense\n",
        "from keras.constraints import max_norm\n",
        "\n",
        "model.add(Dense(8, activation='relu', kernel_constraint=max_norm(3)))"
      ],
      "metadata": {
        "id": "lZhP0_BGfmYF"
      },
      "execution_count": 20,
      "outputs": []
    },
    {
      "cell_type": "code",
      "source": [
        "model.add(Dropout(rate=0.2))"
      ],
      "metadata": {
        "id": "CiuDWXkpfwuM"
      },
      "execution_count": 21,
      "outputs": []
    },
    {
      "cell_type": "code",
      "source": [
        "model.add(Dense(1, activation='sigmoid'))"
      ],
      "metadata": {
        "id": "K8x0IOICf1Wv"
      },
      "execution_count": 22,
      "outputs": []
    },
    {
      "cell_type": "code",
      "source": [
        "\n",
        "from keras.models import Sequential\n",
        "from keras.layers import Dense, Dropout\n",
        "from keras.constraints import max_norm\n",
        "\n",
        "model = Sequential()\n",
        "model.add(Dense(16, input_dim=46, activation='relu', kernel_constraint=max_norm(3)))\n",
        "model.add(Dropout(rate=0.2))\n",
        "model.add(Dense(8, activation='relu', kernel_constraint=max_norm(3)))\n",
        "model.add(Dropout(rate=0.2))\n",
        "model.add(Dense(1, activation='sigmoid'))"
      ],
      "metadata": {
        "id": "X3ONKWSFf7FG"
      },
      "execution_count": 24,
      "outputs": []
    },
    {
      "cell_type": "code",
      "source": [
        "model.compile(loss = \"binary_crossentropy\", optimizer = 'adam', metrics=['accuracy'])"
      ],
      "metadata": {
        "id": "3zT4GjE1gGoS"
      },
      "execution_count": 25,
      "outputs": []
    },
    {
      "cell_type": "code",
      "source": [
        "history = model.fit(X_train, y_train, validation_data=(X_test, y_test), epochs=40, batch_size=10)"
      ],
      "metadata": {
        "colab": {
          "base_uri": "https://localhost:8080/"
        },
        "id": "IJaJKKrSgLGQ",
        "outputId": "ebcb8240-c69f-43b6-8c55-255146cc29af"
      },
      "execution_count": 26,
      "outputs": [
        {
          "output_type": "stream",
          "name": "stdout",
          "text": [
            "Epoch 1/40\n",
            "564/564 [==============================] - 3s 3ms/step - loss: 10.9389 - accuracy: 0.6858 - val_loss: 0.6313 - val_accuracy: 0.7424\n",
            "Epoch 2/40\n",
            "564/564 [==============================] - 1s 2ms/step - loss: 2.0562 - accuracy: 0.7265 - val_loss: 0.5898 - val_accuracy: 0.7424\n",
            "Epoch 3/40\n",
            "564/564 [==============================] - 1s 3ms/step - loss: 1.2958 - accuracy: 0.7302 - val_loss: 0.5666 - val_accuracy: 0.7459\n",
            "Epoch 4/40\n",
            "564/564 [==============================] - 2s 4ms/step - loss: 0.8519 - accuracy: 0.7451 - val_loss: 0.5554 - val_accuracy: 0.7488\n",
            "Epoch 5/40\n",
            "564/564 [==============================] - 2s 4ms/step - loss: 0.6190 - accuracy: 0.7515 - val_loss: 0.5392 - val_accuracy: 0.7644\n",
            "Epoch 6/40\n",
            "564/564 [==============================] - 1s 3ms/step - loss: 0.5827 - accuracy: 0.7533 - val_loss: 0.5339 - val_accuracy: 0.7686\n",
            "Epoch 7/40\n",
            "564/564 [==============================] - 1s 2ms/step - loss: 0.5551 - accuracy: 0.7591 - val_loss: 0.5284 - val_accuracy: 0.7686\n",
            "Epoch 8/40\n",
            "564/564 [==============================] - 1s 2ms/step - loss: 0.5693 - accuracy: 0.7535 - val_loss: 0.5274 - val_accuracy: 0.7700\n",
            "Epoch 9/40\n",
            "564/564 [==============================] - 1s 3ms/step - loss: 0.5616 - accuracy: 0.7559 - val_loss: 0.5301 - val_accuracy: 0.7665\n",
            "Epoch 10/40\n",
            "564/564 [==============================] - 1s 3ms/step - loss: 0.5805 - accuracy: 0.7535 - val_loss: 0.5190 - val_accuracy: 0.7779\n",
            "Epoch 11/40\n",
            "564/564 [==============================] - 1s 3ms/step - loss: 0.5586 - accuracy: 0.7577 - val_loss: 0.5291 - val_accuracy: 0.7559\n",
            "Epoch 12/40\n",
            "564/564 [==============================] - 1s 3ms/step - loss: 0.5438 - accuracy: 0.7565 - val_loss: 0.5241 - val_accuracy: 0.7551\n",
            "Epoch 13/40\n",
            "564/564 [==============================] - 2s 4ms/step - loss: 0.5529 - accuracy: 0.7588 - val_loss: 0.5138 - val_accuracy: 0.7736\n",
            "Epoch 14/40\n",
            "564/564 [==============================] - 2s 3ms/step - loss: 0.5352 - accuracy: 0.7618 - val_loss: 0.5069 - val_accuracy: 0.7786\n",
            "Epoch 15/40\n",
            "564/564 [==============================] - 1s 3ms/step - loss: 0.5290 - accuracy: 0.7625 - val_loss: 0.5086 - val_accuracy: 0.7750\n",
            "Epoch 16/40\n",
            "564/564 [==============================] - 2s 4ms/step - loss: 0.5374 - accuracy: 0.7630 - val_loss: 0.5184 - val_accuracy: 0.7523\n",
            "Epoch 17/40\n",
            "564/564 [==============================] - 4s 6ms/step - loss: 0.5268 - accuracy: 0.7634 - val_loss: 0.5001 - val_accuracy: 0.7793\n",
            "Epoch 18/40\n",
            "564/564 [==============================] - 4s 7ms/step - loss: 0.5269 - accuracy: 0.7657 - val_loss: 0.5032 - val_accuracy: 0.7665\n",
            "Epoch 19/40\n",
            "564/564 [==============================] - 3s 6ms/step - loss: 0.5253 - accuracy: 0.7654 - val_loss: 0.5083 - val_accuracy: 0.7693\n",
            "Epoch 20/40\n",
            "564/564 [==============================] - 1s 3ms/step - loss: 0.5254 - accuracy: 0.7725 - val_loss: 0.5020 - val_accuracy: 0.7665\n",
            "Epoch 21/40\n",
            "564/564 [==============================] - 1s 3ms/step - loss: 0.5152 - accuracy: 0.7714 - val_loss: 0.4991 - val_accuracy: 0.7729\n",
            "Epoch 22/40\n",
            "564/564 [==============================] - 1s 2ms/step - loss: 0.5117 - accuracy: 0.7696 - val_loss: 0.4955 - val_accuracy: 0.7850\n",
            "Epoch 23/40\n",
            "564/564 [==============================] - 1s 3ms/step - loss: 0.5150 - accuracy: 0.7733 - val_loss: 0.4814 - val_accuracy: 0.7906\n",
            "Epoch 24/40\n",
            "564/564 [==============================] - 1s 3ms/step - loss: 0.5134 - accuracy: 0.7694 - val_loss: 0.4949 - val_accuracy: 0.7835\n",
            "Epoch 25/40\n",
            "564/564 [==============================] - 1s 3ms/step - loss: 0.5083 - accuracy: 0.7735 - val_loss: 0.5200 - val_accuracy: 0.7871\n",
            "Epoch 26/40\n",
            "564/564 [==============================] - 2s 3ms/step - loss: 0.5071 - accuracy: 0.7753 - val_loss: 0.4921 - val_accuracy: 0.7942\n",
            "Epoch 27/40\n",
            "564/564 [==============================] - 2s 4ms/step - loss: 0.5081 - accuracy: 0.7716 - val_loss: 0.4886 - val_accuracy: 0.7850\n",
            "Epoch 28/40\n",
            "564/564 [==============================] - 1s 3ms/step - loss: 0.5055 - accuracy: 0.7778 - val_loss: 0.4783 - val_accuracy: 0.7942\n",
            "Epoch 29/40\n",
            "564/564 [==============================] - 1s 3ms/step - loss: 0.5015 - accuracy: 0.7803 - val_loss: 0.4778 - val_accuracy: 0.7977\n",
            "Epoch 30/40\n",
            "564/564 [==============================] - 1s 3ms/step - loss: 0.5076 - accuracy: 0.7730 - val_loss: 0.4891 - val_accuracy: 0.7850\n",
            "Epoch 31/40\n",
            "564/564 [==============================] - 1s 3ms/step - loss: 0.4993 - accuracy: 0.7753 - val_loss: 0.4750 - val_accuracy: 0.7949\n",
            "Epoch 32/40\n",
            "564/564 [==============================] - 1s 2ms/step - loss: 0.5034 - accuracy: 0.7769 - val_loss: 0.4938 - val_accuracy: 0.7864\n",
            "Epoch 33/40\n",
            "564/564 [==============================] - 1s 2ms/step - loss: 0.5186 - accuracy: 0.7755 - val_loss: 0.4927 - val_accuracy: 0.7885\n",
            "Epoch 34/40\n",
            "564/564 [==============================] - 1s 3ms/step - loss: 0.4965 - accuracy: 0.7771 - val_loss: 0.4846 - val_accuracy: 0.7878\n",
            "Epoch 35/40\n",
            "564/564 [==============================] - 2s 3ms/step - loss: 0.4941 - accuracy: 0.7792 - val_loss: 0.4742 - val_accuracy: 0.7949\n",
            "Epoch 36/40\n",
            "564/564 [==============================] - 2s 4ms/step - loss: 0.4974 - accuracy: 0.7742 - val_loss: 0.4746 - val_accuracy: 0.7906\n",
            "Epoch 37/40\n",
            "564/564 [==============================] - 2s 3ms/step - loss: 0.5052 - accuracy: 0.7703 - val_loss: 0.4903 - val_accuracy: 0.7736\n",
            "Epoch 38/40\n",
            "564/564 [==============================] - 2s 3ms/step - loss: 0.4977 - accuracy: 0.7758 - val_loss: 0.4794 - val_accuracy: 0.7850\n",
            "Epoch 39/40\n",
            "564/564 [==============================] - 2s 4ms/step - loss: 0.4934 - accuracy: 0.7829 - val_loss: 0.4759 - val_accuracy: 0.7906\n",
            "Epoch 40/40\n",
            "564/564 [==============================] - 2s 3ms/step - loss: 0.4979 - accuracy: 0.7741 - val_loss: 0.4908 - val_accuracy: 0.7871\n"
          ]
        }
      ]
    },
    {
      "cell_type": "code",
      "source": [
        "\n",
        "import matplotlib.pyplot as plt\n",
        "\n",
        "plt.plot(history.history['accuracy'])\n",
        "plt.plot(history.history['val_accuracy'])\n",
        "plt.title('Model Accuracy')\n",
        "plt.ylabel('Accuracy')\n",
        "plt.xlabel('Epoch')\n",
        "plt.legend(['Train', 'Test'], loc='upper left')\n",
        "plt.show()"
      ],
      "metadata": {
        "colab": {
          "base_uri": "https://localhost:8080/",
          "height": 257
        },
        "id": "fMlP78vLgSZs",
        "outputId": "870cb3f3-1d70-4ca7-afe1-ed1ffbc33c9f"
      },
      "execution_count": 28,
      "outputs": [
        {
          "output_type": "display_data",
          "data": {
            "text/plain": [
              "<Figure size 640x480 with 1 Axes>"
            ],
            "image/png": "[encoded data removed]"
          },
          "metadata": {}
        }
      ]
    },
    {
      "cell_type": "markdown",
      "source": [
        "So there we have it. One neural network that produced around 79% accuracy for customer churn. Of course we can spend more time playing around with learning rates, activation functions, number of nodes, number of epochs etc to try and make it more accurate, but hopefully this is a solid baseline to start your investigation"
      ],
      "metadata": {
        "id": "_KuvLLyUge-c"
      }
    }
  ]
}