{
  "nbformat": 4,
  "nbformat_minor": 0,
  "metadata": {
    "colab": {
      "provenance": [],
      "authorship_tag": "ABX9TyOj1dJT0v5koHpO7S9x8B96",
      "include_colab_link": true
    },
    "kernelspec": {
      "name": "python3",
      "display_name": "Python 3"
    },
    "language_info": {
      "name": "python"
    }
  },
  "cells": [
    {
      "cell_type": "markdown",
      "metadata": {
        "id": "view-in-github",
        "colab_type": "text"
      },
      "source": [
        "<a href=\"https://colab.research.google.com/github/Guhan2348519/dl-lab-tasks/blob/main/2348519_DL_lab7.ipynb\" target=\"_parent\"><img src=\"https://colab.research.google.com/assets/colab-badge.svg\" alt=\"Open In Colab\"/></a>"
      ]
    },
    {
      "cell_type": "code",
      "source": [
        "import tensorflow as tf\n",
        "import numpy as np\n",
        "from tensorflow.keras.preprocessing.image import ImageDataGenerator\n",
        "\n",
        "def preprocess_images(directory, target_size=(224, 224), batch_size=32, augmentation=False):\n",
        "    # ImageDataGenerator for loading and preprocessing images\n",
        "    if augmentation:\n",
        "        datagen = ImageDataGenerator(\n",
        "            rotation_range=20,\n",
        "            width_shift_range=0.2,\n",
        "            height_shift_range=0.2,\n",
        "            shear_range=0.2,\n",
        "            zoom_range=0.2,\n",
        "            horizontal_flip=True,\n",
        "            fill_mode='nearest')\n",
        "    else:\n",
        "        datagen = ImageDataGenerator()\n",
        "\n",
        "    # Flow images from directory in batches\n",
        "    image_generator = datagen.flow_from_directory(\n",
        "        directory,\n",
        "        target_size=target_size,\n",
        "        batch_size=batch_size,\n",
        "        class_mode='categorical')  # Assuming classification task\n",
        "\n",
        "    # Standardize pixel values\n",
        "    images, labels = next(image_generator)\n",
        "    standardized_images = images.astype('float32') / 255.0\n",
        "\n",
        "    return standardized_images, labels\n"
      ],
      "metadata": {
        "id": "BhgTvdydR-z3"
      },
      "execution_count": null,
      "outputs": []
    },
    {
      "cell_type": "code",
      "execution_count": null,
      "metadata": {
        "id": "rJBZg-i0xtUc"
      },
      "outputs": [],
      "source": [
        "\n",
        "import numpy as np\n",
        "from tensorflow.keras.preprocessing.image import ImageDataGenerator\n",
        "\n",
        "# Function to preprocess images\n",
        "def preprocess_images(images, labels, target_size=(224, 224), batch_size=32, augmentation=False):\n",
        "    # Standardize image sizes\n",
        "    standardized_images = []\n",
        "    for img in images:\n",
        "        resized_img = tf.image.resize(img, target_size)\n",
        "        standardized_images.append(resized_img)\n",
        "    standardized_images = np.array(standardized_images)\n",
        "\n",
        "    # Normalize pixel values\n",
        "    standardized_images = standardized_images.astype('float32') / 255.0"
      ]
    },
    {
      "cell_type": "code",
      "source": [
        "train_dir = 'C:\\\\Users\\\\USER\\\\OneDrive\\\\Desktop\\\\Datasets\\\\DL\\\\skinCancer - Lab6\\\\train'\n",
        "test_dir = 'C:\\\\Users\\\\USER\\\\OneDrive\\\\Desktop\\\\Datasets\\\\DL\\\\skinCancer - Lab6\\\\test'\n",
        "\n",
        "img_width, img_height = 224, 224"
      ],
      "metadata": {
        "id": "W9P95boPJQNY"
      },
      "execution_count": null,
      "outputs": []
    },
    {
      "cell_type": "code",
      "source": [
        "\n",
        "import os\n",
        "import cv2\n",
        "\n",
        "def load_images(directory):\n",
        "    images = []\n",
        "    labels = []\n",
        "    for label in os.listdir(directory):\n",
        "        label_dir = os.path.join(directory, label)\n",
        "        for filename in os.listdir(label_dir):\n",
        "            if filename.endswith(\".jpg\"):\n",
        "                img = cv2.imread(os.path.join(label_dir, filename))\n",
        "                img = cv2.resize(img, (img_width, img_height))\n",
        "                images.append(img)\n",
        "                if label == 'normal':\n",
        "                    labels.append(0)  # 0 for normal (no tuberculosis)\n",
        "                else:\n",
        "                    labels.append(1)  # 1 for tuberculosis\n",
        "    return images, labels\n",
        "\n",
        "# Assuming 'train_dir' and 'test_dir' are the directories containing the training and test datasets\n",
        "train_images, train_labels = load_images(train_dir)\n",
        "test_images, test_labels = load_images(test_dir)"
      ],
      "metadata": {
        "id": "JDtPAlQNKEEw"
      },
      "execution_count": null,
      "outputs": []
    },
    {
      "cell_type": "code",
      "source": [
        "def load_images(directory):\n",
        "    images = []\n",
        "    labels = []\n",
        "    for label in os.listdir(directory):\n",
        "        label_dir = os.path.join(directory, label)\n",
        "        for filename in os.listdir(label_dir):\n",
        "            if filename.endswith(\".jpg\"):\n",
        "                img = cv2.imread(os.path.join(label_dir, filename))\n",
        "                img = cv2.resize(img, (img_width, img_height))\n",
        "                images.append(img)\n",
        "                if label == 'benign':\n",
        "                    labels.append(0)\n",
        "                else:\n",
        "                    labels.append(1)\n",
        "    return images, labelsA\n",
        "\n",
        "train_images, train_labels = load_images(train_dir)\n",
        "test_images, test_labels = load_images(test_dir)"
      ],
      "metadata": {
        "id": "_Asc9cJqJQ3A"
      },
      "execution_count": null,
      "outputs": []
    },
    {
      "cell_type": "code",
      "source": [
        "train_images = np.array(train_images)\n",
        "train_labels = np.array(train_labels)\n",
        "test_images = np.array(test_images)\n",
        "test_labels = np.array(test_labels)"
      ],
      "metadata": {
        "id": "cn98CMccJcdY"
      },
      "execution_count": null,
      "outputs": []
    },
    {
      "cell_type": "code",
      "source": [
        "train_images = train_images / 255.0\n",
        "test_images = test_images / 255.0"
      ],
      "metadata": {
        "id": "mPyKVv6HJgcs"
      },
      "execution_count": null,
      "outputs": []
    },
    {
      "cell_type": "code",
      "source": [
        "train_datagen = ImageDataGenerator(rotation_range=20, width_shift_range=0.2, height_shift_range=0.2,\n",
        "                                   shear_range=0.2, zoom_range=0.2, horizontal_flip=True, fill_mode='nearest')\n",
        "train_datagen.fit(train_images)"
      ],
      "metadata": {
        "id": "ORKALlIEJk3S"
      },
      "execution_count": null,
      "outputs": []
    }
  ]
}