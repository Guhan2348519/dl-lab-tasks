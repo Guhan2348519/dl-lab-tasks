{
  "cells": [
    {
      "cell_type": "markdown",
      "metadata": {
        "id": "view-in-github",
        "colab_type": "text"
      },
      "source": [
        "<a href=\"https://colab.research.google.com/github/Guhan2348519/dl-lab-tasks/blob/main/2348519_DL_lab5.ipynb\" target=\"_parent\"><img src=\"https://colab.research.google.com/assets/colab-badge.svg\" alt=\"Open In Colab\"/></a>"
      ]
    },
    {
      "cell_type": "code",
      "execution_count": null,
      "metadata": {
        "id": "-0pZA70TpNVI"
      },
      "outputs": [],
      "source": [
        "import tensorflow as tf\n",
        "import numpy as np\n",
        "from tensorflow.keras.callbacks import TensorBoard"
      ]
    },
    {
      "cell_type": "code",
      "execution_count": null,
      "metadata": {
        "id": "g7uJwLL5pNVQ",
        "outputId": "a980e82e-467e-4677-dbc4-1f1b3a5036fa"
      },
      "outputs": [
        {
          "name": "stdout",
          "output_type": "stream",
          "text": [
            "Found 12658 images belonging to 5 classes.\n",
            "Found 2065 images belonging to 5 classes.\n"
          ]
        }
      ],
      "source": [
        "from tensorflow.keras.preprocessing.image import ImageDataGenerator\n",
        "train_datagen = ImageDataGenerator (rescale = 1./255,\n",
        "rotation_range=43,\n",
        "width_shift_range=0.2,\n",
        "height_shift_range=0.2,\n",
        "shear_range = 0.2,\n",
        "zoom_range = 0.2,\n",
        "horizontal_flip = True,\n",
        "vertical_flip = True, fill_mode='nearest')\n",
        "train_generator = train_datagen.flow_from_directory(\n",
        "        'Training_set',\n",
        "        target_size=(64, 64),\n",
        "        batch_size=32,\n",
        "        class_mode='categorical')\n",
        "validation_datagen = ImageDataGenerator(rescale = 1./255, rotation_range=43,\n",
        "width_shift_range=0.2,\n",
        "height_shift_range=0.2,\n",
        "shear_range = 0.2,\n",
        "zoom_range = 0.2,\n",
        "horizontal_flip = True,\n",
        "vertical_flip = True,\n",
        "fill_mode='nearest')\n",
        "# loading testing data\n",
        "test_datagen = ImageDataGenerator(rescale=1./255)\n",
        "test_generator = train_datagen.flow_from_directory(\n",
        "        'Test_set',\n",
        "        target_size=(64, 64),\n",
        "        batch_size=32,\n",
        "        class_mode='categorical')"
      ]
    },
    {
      "cell_type": "code",
      "execution_count": null,
      "metadata": {
        "id": "qpDsoUG8pNVT",
        "outputId": "43d32eed-db71-4d04-b2c1-ee395bc8a2e2"
      },
      "outputs": [
        {
          "data": {
            "text/plain": [
              "<Sequential name=sequential_1, built=True>"
            ]
          },
          "execution_count": 8,
          "metadata": {},
          "output_type": "execute_result"
        }
      ],
      "source": [
        "\n",
        "tf.keras.models.Sequential([\n",
        "tf.keras.layers.Conv2D(128, (3,3), activation='relu', input_shape=(500,500, 3)),\n",
        "tf.keras.layers.MaxPooling2D(2, 2),\n",
        "tf.keras.layers.Conv2D(128, (3,3), activation='relu'),\n",
        "tf.keras.layers.MaxPooling2D(2,2),\n",
        "tf.keras.layers. Conv2D (64, (3,3), activation='relu'),\n",
        "tf.keras.layers.MaxPooling2D(2,2),\n",
        "tf.keras.layers.Conv2D (32, (3,3), activation='relu'),\n",
        "tf.keras.layers.MaxPooling2D(2,2),\n",
        "tf.keras.layers.BatchNormalization(momentum=0.9),\n",
        "tf.keras.layers. Conv2D (16, (3,3), activation='relu'),\n",
        "tf.keras.layers.MaxPooling2D(2,2),\n",
        "tf.keras.layers. Flatten(),\n",
        "tf.keras.layers. Dense (1024, activation='relu'),\n",
        "tf.keras.layers. Dropout (0.2),\n",
        "tf.keras.layers. Dense (512, activation='relu'),\n",
        "tf.keras.layers. Dropout (0.2),\n",
        "tf.keras.layers. Dense (5, activation='softmax')\n",
        "])\n",
        "# model.summary()"
      ]
    },
    {
      "cell_type": "code",
      "execution_count": null,
      "metadata": {
        "id": "Gut6b_tTpNVV",
        "outputId": "38bc8fbf-997b-49a8-bee1-88924944a8fa"
      },
      "outputs": [
        {
          "ename": "NameError",
          "evalue": "name 'cnn' is not defined",
          "output_type": "error",
          "traceback": [
            "\u001b[1;31m---------------------------------------------------------------------------\u001b[0m",
            "\u001b[1;31mNameError\u001b[0m                                 Traceback (most recent call last)",
            "Cell \u001b[1;32mIn[9], line 2\u001b[0m\n\u001b[0;32m      1\u001b[0m tensorboard_callback \u001b[38;5;241m=\u001b[39m TensorBoard(log_dir\u001b[38;5;241m=\u001b[39m\u001b[38;5;124m\"\u001b[39m\u001b[38;5;124mlogs\u001b[39m\u001b[38;5;124m\"\u001b[39m)\n\u001b[1;32m----> 2\u001b[0m \u001b[43mcnn\u001b[49m\u001b[38;5;241m.\u001b[39mfit(x\u001b[38;5;241m=\u001b[39mtrain_generator, validation_data\u001b[38;5;241m=\u001b[39mtest_generator, epochs\u001b[38;5;241m=\u001b[39m\u001b[38;5;241m30\u001b[39m, callbacks\u001b[38;5;241m=\u001b[39m[tensorboard_callback])\n",
            "\u001b[1;31mNameError\u001b[0m: name 'cnn' is not defined"
          ]
        }
      ],
      "source": [
        "tensorboard_callback = TensorBoard(log_dir=\"logs\")\n",
        "cnn.fit(x=train_generator, validation_data=test_generator, epochs=30, callbacks=[tensorboard_callback])\n"
      ]
    },
    {
      "cell_type": "code",
      "execution_count": null,
      "metadata": {
        "id": "6xOeokPPpNVW",
        "outputId": "88bc1483-45da-4605-9294-245cea084254"
      },
      "outputs": [
        {
          "ename": "NameError",
          "evalue": "name 'history' is not defined",
          "output_type": "error",
          "traceback": [
            "\u001b[1;31m---------------------------------------------------------------------------\u001b[0m",
            "\u001b[1;31mNameError\u001b[0m                                 Traceback (most recent call last)",
            "Cell \u001b[1;32mIn[7], line 4\u001b[0m\n\u001b[0;32m      1\u001b[0m \u001b[38;5;28;01mimport\u001b[39;00m \u001b[38;5;21;01mmatplotlib\u001b[39;00m\u001b[38;5;21;01m.\u001b[39;00m\u001b[38;5;21;01mpyplot\u001b[39;00m \u001b[38;5;28;01mas\u001b[39;00m \u001b[38;5;21;01mplt\u001b[39;00m\n\u001b[0;32m      3\u001b[0m \u001b[38;5;66;03m# Plot training & validation accuracy values\u001b[39;00m\n\u001b[1;32m----> 4\u001b[0m plt\u001b[38;5;241m.\u001b[39mplot(\u001b[43mhistory\u001b[49m\u001b[38;5;241m.\u001b[39mhistory[\u001b[38;5;124m'\u001b[39m\u001b[38;5;124maccuracy\u001b[39m\u001b[38;5;124m'\u001b[39m])\n\u001b[0;32m      5\u001b[0m plt\u001b[38;5;241m.\u001b[39mplot(history\u001b[38;5;241m.\u001b[39mhistory[\u001b[38;5;124m'\u001b[39m\u001b[38;5;124mval_accuracy\u001b[39m\u001b[38;5;124m'\u001b[39m])\n\u001b[0;32m      6\u001b[0m plt\u001b[38;5;241m.\u001b[39mtitle(\u001b[38;5;124m'\u001b[39m\u001b[38;5;124mModel accuracy\u001b[39m\u001b[38;5;124m'\u001b[39m)\n",
            "\u001b[1;31mNameError\u001b[0m: name 'history' is not defined"
          ]
        }
      ],
      "source": [
        "import matplotlib.pyplot as plt\n",
        "\n",
        "# Plot training & validation accuracy values\n",
        "plt.plot(history.history['accuracy'])\n",
        "plt.plot(history.history['val_accuracy'])\n",
        "plt.title('Model accuracy')\n",
        "plt.ylabel('Accuracy')\n",
        "plt.xlabel('Epoch')\n",
        "plt.legend(['Train', 'Validation'], loc='upper left')\n",
        "plt.show()\n",
        "\n",
        "# Plot training & validation loss values\n",
        "plt.plot(history.history['loss'])\n",
        "plt.plot(history.history['val_loss'])\n",
        "plt.title('Model loss')\n",
        "plt.ylabel('Loss')\n",
        "plt.xlabel('Epoch')\n",
        "plt.legend(['Train', 'Validation'], loc='upper left')\n",
        "plt.show()\n"
      ]
    },
    {
      "cell_type": "code",
      "execution_count": null,
      "metadata": {
        "id": "-Oe3JsdqpNVX",
        "outputId": "c9d5a22d-c1e1-4766-8fd9-007c9037c6e4"
      },
      "outputs": [
        {
          "ename": "NameError",
          "evalue": "name 'model' is not defined",
          "output_type": "error",
          "traceback": [
            "\u001b[1;31m---------------------------------------------------------------------------\u001b[0m",
            "\u001b[1;31mNameError\u001b[0m                                 Traceback (most recent call last)",
            "Cell \u001b[1;32mIn[8], line 6\u001b[0m\n\u001b[0;32m      3\u001b[0m \u001b[38;5;28;01mimport\u001b[39;00m \u001b[38;5;21;01mseaborn\u001b[39;00m \u001b[38;5;28;01mas\u001b[39;00m \u001b[38;5;21;01msns\u001b[39;00m\n\u001b[0;32m      5\u001b[0m \u001b[38;5;66;03m# Predict the test set labels\u001b[39;00m\n\u001b[1;32m----> 6\u001b[0m y_pred \u001b[38;5;241m=\u001b[39m \u001b[43mmodel\u001b[49m\u001b[38;5;241m.\u001b[39mpredict(test_generator)\n\u001b[0;32m      7\u001b[0m y_pred_classes \u001b[38;5;241m=\u001b[39m np\u001b[38;5;241m.\u001b[39margmax(y_pred, axis\u001b[38;5;241m=\u001b[39m\u001b[38;5;241m1\u001b[39m)\n\u001b[0;32m      8\u001b[0m y_true \u001b[38;5;241m=\u001b[39m test_generator\u001b[38;5;241m.\u001b[39mclasses\n",
            "\u001b[1;31mNameError\u001b[0m: name 'model' is not defined"
          ]
        }
      ],
      "source": [
        "import numpy as np\n",
        "from sklearn.metrics import confusion_matrix\n",
        "import seaborn as sns\n",
        "\n",
        "# Predict the test set labels\n",
        "y_pred = model.predict(test_generator)\n",
        "y_pred_classes = np.argmax(y_pred, axis=1)\n",
        "y_true = test_generator.classes\n",
        "\n",
        "# Compute confusion matrix\n",
        "confusion_mtx = confusion_matrix(y_true, y_pred_classes)\n",
        "\n",
        "# Visualize confusion matrix using seaborn\n",
        "plt.figure(figsize=(10, 8))\n",
        "sns.heatmap(confusion_mtx, annot=True, fmt='d', cmap='Blues')\n",
        "plt.xlabel('Predicted Label')\n",
        "plt.ylabel('True Label')\n",
        "plt.title('Confusion Matrix')\n",
        "plt.show()\n"
      ]
    },
    {
      "cell_type": "code",
      "execution_count": null,
      "metadata": {
        "id": "ku88Zx8SpNVX"
      },
      "outputs": [],
      "source": [
        "import tensorflow as tf\n",
        "\n",
        "cnn = tf.keras.models.Sequential()\n",
        "\n",
        "cnn.add(tf.keras.layers.Conv2D(filters=48, kernel_size=3, input_shape=[64, 64, 3]))\n",
        "cnn.add(tf.keras.layers.BatchNormalization())  # Adding Batch Normalization\n",
        "cnn.add(tf.keras.layers.Activation('relu'))\n",
        "\n",
        "cnn.add(tf.keras.layers.MaxPool2D(pool_size=2, strides=2))\n",
        "\n",
        "cnn.add(tf.keras.layers.Conv2D(filters=48, kernel_size=3))\n",
        "cnn.add(tf.keras.layers.BatchNormalization())  # Adding Batch Normalization\n",
        "cnn.add(tf.keras.layers.Activation('relu'))\n",
        "\n",
        "cnn.add(tf.keras.layers.MaxPool2D(pool_size=2, strides=2))\n",
        "\n",
        "cnn.add(tf.keras.layers.Conv2D(filters=32, kernel_size=3))\n",
        "cnn.add(tf.keras.layers.BatchNormalization())  # Adding Batch Normalization\n",
        "cnn.add(tf.keras.layers.Activation('relu'))\n",
        "\n",
        "cnn.add(tf.keras.layers.MaxPool2D(pool_size=2, strides=2))\n",
        "\n",
        "cnn.add(tf.keras.layers.Flatten())\n",
        "\n",
        "cnn.add(tf.keras.layers.Dense(128, activation='relu'))\n",
        "cnn.add(tf.keras.layers.Dense(64, activation='relu'))\n",
        "cnn.add(tf.keras.layers.Dense(6, activation='softmax'))\n",
        "\n",
        "cnn.compile(optimizer=\"adam\", loss=\"categorical_crossentropy\", metrics=[\"accuracy\"])\n",
        "cnn.fit(x=train_generator, validation_data=test_generator, epochs=30)\n"
      ]
    },
    {
      "cell_type": "code",
      "execution_count": null,
      "metadata": {
        "id": "rHifPO-QpNVZ"
      },
      "outputs": [],
      "source": []
    }
  ],
  "metadata": {
    "kernelspec": {
      "display_name": "base",
      "language": "python",
      "name": "python3"
    },
    "language_info": {
      "codemirror_mode": {
        "name": "ipython",
        "version": 3
      },
      "file_extension": ".py",
      "mimetype": "text/x-python",
      "name": "python",
      "nbconvert_exporter": "python",
      "pygments_lexer": "ipython3",
      "version": "3.11.5"
    },
    "colab": {
      "provenance": [],
      "include_colab_link": true
    }
  },
  "nbformat": 4,
  "nbformat_minor": 0
}