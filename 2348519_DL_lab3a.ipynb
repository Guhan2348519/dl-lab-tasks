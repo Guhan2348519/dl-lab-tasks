{
  "nbformat": 4,
  "nbformat_minor": 0,
  "metadata": {
    "colab": {
      "provenance": [],
      "authorship_tag": "ABX9TyNt8yT2f+PJ3WavhrwYg20H",
      "include_colab_link": true
    },
    "kernelspec": {
      "name": "python3",
      "display_name": "Python 3"
    },
    "language_info": {
      "name": "python"
    }
  },
  "cells": [
    {
      "cell_type": "markdown",
      "metadata": {
        "id": "view-in-github",
        "colab_type": "text"
      },
      "source": [
        "<a href=\"https://colab.research.google.com/github/Guhan2348519/dl-lab-tasks/blob/main/2348519_DL_lab3a.ipynb\" target=\"_parent\"><img src=\"https://colab.research.google.com/assets/colab-badge.svg\" alt=\"Open In Colab\"/></a>"
      ]
    },
    {
      "cell_type": "code",
      "execution_count": 6,
      "metadata": {
        "colab": {
          "base_uri": "https://localhost:8080/"
        },
        "id": "4SE5eGeuIDC6",
        "outputId": "eebe5ed5-fff0-4665-ed7d-c3565ae344fe"
      },
      "outputs": [
        {
          "output_type": "stream",
          "name": "stdout",
          "text": [
            "Optimal prices after each iteration:\n",
            "20.1\n",
            "20.105263157894736\n",
            "20.11070110701107\n",
            "Final optimal price:  25.14\n"
          ]
        }
      ],
      "source": [
        "\n",
        "import numpy as np\n",
        "# Define the revenue function and its derivative\n",
        "def revenue_function(w):\n",
        "    return 0.5*w**2 - 30*w + 100\n",
        "\n",
        "def revenue_derivative(w):\n",
        "    return w - 30\n",
        "\n",
        "# Define the SGD with momentum algorithm\n",
        "def sgd_momentum(revenue_function, revenue_derivative, initial_price, learning_rate, momentum, num_iterations):\n",
        "    w = initial_price\n",
        "    v = 0\n",
        "\n",
        "    for i in range(num_iterations):\n",
        "        gradient = revenue_derivative(w)\n",
        "        v = momentum * v - learning_rate * gradient\n",
        "        w += v\n",
        "\n",
        "    return w\n",
        "\n",
        "# Set the parameters\n",
        "initial_price = 20\n",
        "learning_rate = 0.1\n",
        "momentum = 0.9\n",
        "num_iterations = 3\n",
        "\n",
        "# Run the SGD with momentum algorithm\n",
        "optimal_price = sgd_momentum(revenue_function, revenue_derivative, initial_price, learning_rate, momentum, num_iterations)\n",
        "\n",
        "# Print the optimal prices after each iteration\n",
        "print(\"Optimal prices after each iteration:\")\n",
        "for i in range(num_iterations):\n",
        "    print(initial_price + (i+1)*(learning_rate*(1-momentum))/(1-momentum**(i+1)))\n",
        "\n",
        "# Print the final optimal price\n",
        "print(\"Final optimal price: \", optimal_price)"
      ]
    },
    {
      "cell_type": "markdown",
      "source": [
        "initial price of $20 and repeat the optimization process for at least 3 iterations using a learning rate of 0.1 and momentum of 0.9."
      ],
      "metadata": {
        "id": "T4PRNCnHLSDW"
      }
    },
    {
      "cell_type": "markdown",
      "source": [
        "f(w)=0.5w^2 −30w+100\n",
        "derivativef(w)=w−30"
      ],
      "metadata": {
        "id": "xssQHHypLlzf"
      }
    }
  ]
}